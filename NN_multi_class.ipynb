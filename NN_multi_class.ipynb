{
  "nbformat": 4,
  "nbformat_minor": 0,
  "metadata": {
    "colab": {
      "name": "NN multi-class.ipynb",
      "provenance": [],
      "include_colab_link": true
    },
    "kernelspec": {
      "name": "python3",
      "display_name": "Python 3"
    },
    "language_info": {
      "name": "python"
    }
  },
  "cells": [
    {
      "cell_type": "markdown",
      "metadata": {
        "id": "view-in-github",
        "colab_type": "text"
      },
      "source": [
        "<a href=\"https://colab.research.google.com/github/hellosanjeev/Air-BNB/blob/main/NN_multi_class.ipynb\" target=\"_parent\"><img src=\"https://colab.research.google.com/assets/colab-badge.svg\" alt=\"Open In Colab\"/></a>"
      ]
    },
    {
      "cell_type": "code",
      "metadata": {
        "id": "W1rNoNuWrz3i"
      },
      "source": [
        "import numpy as np\n",
        "import pandas as pd\n",
        "import matplotlib.pyplot as plt\n",
        "import seaborn as sns\n",
        "\n",
        "from tensorflow.keras.models import Sequential\n",
        "from tensorflow.keras.layers import Dense\n",
        "\n",
        "from sklearn.model_selection import train_test_split\n",
        "from sklearn.metrics import classification_report\n",
        "\n",
        "from sklearn.preprocessing import StandardScaler\n",
        "from sklearn.decomposition import PCA "
      ],
      "execution_count": null,
      "outputs": []
    },
    {
      "cell_type": "code",
      "metadata": {
        "id": "tHPGHyQ2smNm"
      },
      "source": [
        "df = pd.read_csv(\"/content/drive/MyDrive/Sukamal/DL 11:30/iris.csv\")"
      ],
      "execution_count": null,
      "outputs": []
    },
    {
      "cell_type": "code",
      "metadata": {
        "colab": {
          "base_uri": "https://localhost:8080/",
          "height": 206
        },
        "id": "Q3FsVf9MuNwB",
        "outputId": "21d1b0ce-58c7-426d-aa44-1c6e8dc4f49e"
      },
      "source": [
        "df.head()"
      ],
      "execution_count": null,
      "outputs": [
        {
          "output_type": "execute_result",
          "data": {
            "text/html": [
              "<div>\n",
              "<style scoped>\n",
              "    .dataframe tbody tr th:only-of-type {\n",
              "        vertical-align: middle;\n",
              "    }\n",
              "\n",
              "    .dataframe tbody tr th {\n",
              "        vertical-align: top;\n",
              "    }\n",
              "\n",
              "    .dataframe thead th {\n",
              "        text-align: right;\n",
              "    }\n",
              "</style>\n",
              "<table border=\"1\" class=\"dataframe\">\n",
              "  <thead>\n",
              "    <tr style=\"text-align: right;\">\n",
              "      <th></th>\n",
              "      <th>sepal_length</th>\n",
              "      <th>sepal_width</th>\n",
              "      <th>petal_length</th>\n",
              "      <th>petal_width</th>\n",
              "      <th>species</th>\n",
              "    </tr>\n",
              "  </thead>\n",
              "  <tbody>\n",
              "    <tr>\n",
              "      <th>0</th>\n",
              "      <td>5.1</td>\n",
              "      <td>3.5</td>\n",
              "      <td>1.4</td>\n",
              "      <td>0.2</td>\n",
              "      <td>Iris-setosa</td>\n",
              "    </tr>\n",
              "    <tr>\n",
              "      <th>1</th>\n",
              "      <td>4.9</td>\n",
              "      <td>3.0</td>\n",
              "      <td>1.4</td>\n",
              "      <td>0.2</td>\n",
              "      <td>Iris-setosa</td>\n",
              "    </tr>\n",
              "    <tr>\n",
              "      <th>2</th>\n",
              "      <td>4.7</td>\n",
              "      <td>3.2</td>\n",
              "      <td>1.3</td>\n",
              "      <td>0.2</td>\n",
              "      <td>Iris-setosa</td>\n",
              "    </tr>\n",
              "    <tr>\n",
              "      <th>3</th>\n",
              "      <td>4.6</td>\n",
              "      <td>3.1</td>\n",
              "      <td>1.5</td>\n",
              "      <td>0.2</td>\n",
              "      <td>Iris-setosa</td>\n",
              "    </tr>\n",
              "    <tr>\n",
              "      <th>4</th>\n",
              "      <td>5.0</td>\n",
              "      <td>3.6</td>\n",
              "      <td>1.4</td>\n",
              "      <td>0.2</td>\n",
              "      <td>Iris-setosa</td>\n",
              "    </tr>\n",
              "  </tbody>\n",
              "</table>\n",
              "</div>"
            ],
            "text/plain": [
              "   sepal_length  sepal_width  petal_length  petal_width      species\n",
              "0           5.1          3.5           1.4          0.2  Iris-setosa\n",
              "1           4.9          3.0           1.4          0.2  Iris-setosa\n",
              "2           4.7          3.2           1.3          0.2  Iris-setosa\n",
              "3           4.6          3.1           1.5          0.2  Iris-setosa\n",
              "4           5.0          3.6           1.4          0.2  Iris-setosa"
            ]
          },
          "metadata": {},
          "execution_count": 3
        }
      ]
    },
    {
      "cell_type": "code",
      "metadata": {
        "colab": {
          "base_uri": "https://localhost:8080/"
        },
        "id": "5bOJXSSBuOiQ",
        "outputId": "59d425cb-6346-46aa-9588-9e8b8d15d8e9"
      },
      "source": [
        "df[\"species\"].value_counts()"
      ],
      "execution_count": null,
      "outputs": [
        {
          "output_type": "execute_result",
          "data": {
            "text/plain": [
              "Iris-versicolor    50\n",
              "Iris-setosa        50\n",
              "Iris-virginica     50\n",
              "Name: species, dtype: int64"
            ]
          },
          "metadata": {},
          "execution_count": 4
        }
      ]
    },
    {
      "cell_type": "code",
      "metadata": {
        "id": "Uzy3z_b0vqAh"
      },
      "source": [
        "from sklearn.preprocessing import LabelEncoder"
      ],
      "execution_count": null,
      "outputs": []
    },
    {
      "cell_type": "code",
      "metadata": {
        "id": "3JP-lrUqv-rh"
      },
      "source": [
        "le = LabelEncoder()\n",
        "df[\"species\"] = le.fit_transform(df[\"species\"])"
      ],
      "execution_count": null,
      "outputs": []
    },
    {
      "cell_type": "code",
      "metadata": {
        "colab": {
          "base_uri": "https://localhost:8080/"
        },
        "id": "gkR_tHiTwDx0",
        "outputId": "a6ef3a0c-8874-4651-9b4e-18fdf7f38369"
      },
      "source": [
        "df[\"species\"].value_counts()"
      ],
      "execution_count": null,
      "outputs": [
        {
          "output_type": "execute_result",
          "data": {
            "text/plain": [
              "2    50\n",
              "1    50\n",
              "0    50\n",
              "Name: species, dtype: int64"
            ]
          },
          "metadata": {},
          "execution_count": 10
        }
      ]
    },
    {
      "cell_type": "code",
      "metadata": {
        "id": "oNOQuUWqwNDS"
      },
      "source": [
        "X = df.drop(\"species\",axis=1)\n",
        "y = df[\"species\"]"
      ],
      "execution_count": null,
      "outputs": []
    },
    {
      "cell_type": "code",
      "metadata": {
        "id": "lqXYQJJ8w1BC"
      },
      "source": [
        "pc = PCA(n_components=2,random_state=1)\n",
        "components = pc.fit_transform(X,y)"
      ],
      "execution_count": null,
      "outputs": []
    },
    {
      "cell_type": "code",
      "metadata": {
        "id": "kgzYKNOGw4sU"
      },
      "source": [
        "pc1 = components[:,0]\n",
        "pc2 = components[:,1]"
      ],
      "execution_count": null,
      "outputs": []
    },
    {
      "cell_type": "code",
      "metadata": {
        "colab": {
          "base_uri": "https://localhost:8080/",
          "height": 341
        },
        "id": "3ZhB0vh4w6q3",
        "outputId": "b3250db1-c3a8-40ae-af7e-1dd2b2d1b801"
      },
      "source": [
        "sns.scatterplot(pc1,pc2,hue=y)"
      ],
      "execution_count": null,
      "outputs": [
        {
          "output_type": "stream",
          "name": "stderr",
          "text": [
            "/usr/local/lib/python3.7/dist-packages/seaborn/_decorators.py:43: FutureWarning: Pass the following variables as keyword args: x, y. From version 0.12, the only valid positional argument will be `data`, and passing other arguments without an explicit keyword will result in an error or misinterpretation.\n",
            "  FutureWarning\n"
          ]
        },
        {
          "output_type": "execute_result",
          "data": {
            "text/plain": [
              "<matplotlib.axes._subplots.AxesSubplot at 0x7fb44a8ab390>"
            ]
          },
          "metadata": {},
          "execution_count": 15
        },
        {
          "output_type": "display_data",
          "data": {
            "image/png": "[encoded data removed]",
            "text/plain": [
              "<Figure size 432x288 with 1 Axes>"
            ]
          },
          "metadata": {
            "needs_background": "light"
          }
        }
      ]
    },
    {
      "cell_type": "code",
      "metadata": {
        "id": "s3fXLYWtxIId"
      },
      "source": [
        "X_train,X_test,y_train,y_test = train_test_split(X,y,test_size=0.3,random_state=1)"
      ],
      "execution_count": null,
      "outputs": []
    },
    {
      "cell_type": "code",
      "metadata": {
        "id": "bS3hqL6Mx3eA"
      },
      "source": [
        "ss = StandardScaler()\n",
        "\n",
        "X_train_ss = ss.fit_transform(X_train)\n",
        "X_test_ss = ss.transform(X_test)"
      ],
      "execution_count": null,
      "outputs": []
    },
    {
      "cell_type": "code",
      "metadata": {
        "id": "-m5CE98Nx5-1"
      },
      "source": [
        "# Neural network\n",
        "\n",
        "model = Sequential()\n",
        "model.add(Dense(32, input_dim=4, activation=\"relu\"))\n",
        "model.add(Dense(32, activation=\"relu\"))\n",
        "model.add(Dense(32, activation=\"relu\"))\n",
        "model.add(Dense(32, activation=\"relu\"))\n",
        "model.add(Dense(3, activation=\"softmax\"))"
      ],
      "execution_count": null,
      "outputs": []
    },
    {
      "cell_type": "code",
      "metadata": {
        "id": "wB0UPxNTzrwt"
      },
      "source": [
        "model.compile(optimizer=\"adam\",loss=\"sparse_categorical_crossentropy\")"
      ],
      "execution_count": null,
      "outputs": []
    },
    {
      "cell_type": "code",
      "metadata": {
        "colab": {
          "base_uri": "https://localhost:8080/"
        },
        "id": "ZNf4fz3Pz-gk",
        "outputId": "24563dd4-1de8-4768-a2df-9ef2be5f1aca"
      },
      "source": [
        "trained_model = model.fit(X_train_ss,y_train,epochs=25,batch_size=16)"
      ],
      "execution_count": null,
      "outputs": [
        {
          "output_type": "stream",
          "name": "stdout",
          "text": [
            "Epoch 1/25\n",
            "7/7 [==============================] - 0s 2ms/step - loss: 1.1244\n",
            "Epoch 2/25\n",
            "7/7 [==============================] - 0s 2ms/step - loss: 1.0255\n",
            "Epoch 3/25\n",
            "7/7 [==============================] - 0s 2ms/step - loss: 0.9462\n",
            "Epoch 4/25\n",
            "7/7 [==============================] - 0s 2ms/step - loss: 0.8642\n",
            "Epoch 5/25\n",
            "7/7 [==============================] - 0s 2ms/step - loss: 0.7702\n",
            "Epoch 6/25\n",
            "7/7 [==============================] - 0s 2ms/step - loss: 0.6705\n",
            "Epoch 7/25\n",
            "7/7 [==============================] - 0s 3ms/step - loss: 0.5743\n",
            "Epoch 8/25\n",
            "7/7 [==============================] - 0s 2ms/step - loss: 0.4797\n",
            "Epoch 9/25\n",
            "7/7 [==============================] - 0s 2ms/step - loss: 0.3933\n",
            "Epoch 10/25\n",
            "7/7 [==============================] - 0s 3ms/step - loss: 0.3249\n",
            "Epoch 11/25\n",
            "7/7 [==============================] - 0s 3ms/step - loss: 0.2770\n",
            "Epoch 12/25\n",
            "7/7 [==============================] - 0s 3ms/step - loss: 0.2346\n",
            "Epoch 13/25\n",
            "7/7 [==============================] - 0s 3ms/step - loss: 0.2133\n",
            "Epoch 14/25\n",
            "7/7 [==============================] - 0s 3ms/step - loss: 0.1907\n",
            "Epoch 15/25\n",
            "7/7 [==============================] - 0s 3ms/step - loss: 0.1717\n",
            "Epoch 16/25\n",
            "7/7 [==============================] - 0s 4ms/step - loss: 0.1577\n",
            "Epoch 17/25\n",
            "7/7 [==============================] - 0s 3ms/step - loss: 0.1468\n",
            "Epoch 18/25\n",
            "7/7 [==============================] - 0s 2ms/step - loss: 0.1346\n",
            "Epoch 19/25\n",
            "7/7 [==============================] - 0s 3ms/step - loss: 0.1281\n",
            "Epoch 20/25\n",
            "7/7 [==============================] - 0s 3ms/step - loss: 0.1292\n",
            "Epoch 21/25\n",
            "7/7 [==============================] - 0s 3ms/step - loss: 0.1154\n",
            "Epoch 22/25\n",
            "7/7 [==============================] - 0s 2ms/step - loss: 0.1108\n",
            "Epoch 23/25\n",
            "7/7 [==============================] - 0s 2ms/step - loss: 0.1232\n",
            "Epoch 24/25\n",
            "7/7 [==============================] - 0s 3ms/step - loss: 0.1006\n",
            "Epoch 25/25\n",
            "7/7 [==============================] - 0s 3ms/step - loss: 0.0915\n"
          ]
        }
      ]
    },
    {
      "cell_type": "code",
      "metadata": {
        "colab": {
          "base_uri": "https://localhost:8080/",
          "height": 282
        },
        "id": "pSFORt_y0Ots",
        "outputId": "8ac9b3be-f2a1-4cde-aa95-4b7033ceab70"
      },
      "source": [
        "plt.plot(trained_model.history['loss'])"
      ],
      "execution_count": null,
      "outputs": [
        {
          "output_type": "execute_result",
          "data": {
            "text/plain": [
              "[<matplotlib.lines.Line2D at 0x7fb43c4cb690>]"
            ]
          },
          "metadata": {},
          "execution_count": 44
        },
        {
          "output_type": "display_data",
          "data": {
            "image/png": "[encoded data removed]",
            "text/plain": [
              "<Figure size 432x288 with 1 Axes>"
            ]
          },
          "metadata": {
            "needs_background": "light"
          }
        }
      ]
    },
    {
      "cell_type": "code",
      "metadata": {
        "id": "KLS0MW7x0lUo"
      },
      "source": [
        "y_pred = model.predict(X_test_ss)"
      ],
      "execution_count": null,
      "outputs": []
    },
    {
      "cell_type": "code",
      "metadata": {
        "id": "0RtYMK5j1Qrf"
      },
      "source": [
        "y_pred = np.argmax(y_pred,axis=1)"
      ],
      "execution_count": null,
      "outputs": []
    },
    {
      "cell_type": "code",
      "metadata": {
        "colab": {
          "base_uri": "https://localhost:8080/"
        },
        "id": "iOsyOVFH3zaC",
        "outputId": "fafcee62-3197-468f-96bb-317281458b2c"
      },
      "source": [
        "print(classification_report(y_test,y_pred))"
      ],
      "execution_count": null,
      "outputs": [
        {
          "output_type": "stream",
          "name": "stdout",
          "text": [
            "              precision    recall  f1-score   support\n",
            "\n",
            "           0       1.00      1.00      1.00        14\n",
            "           1       0.94      0.94      0.94        18\n",
            "           2       0.92      0.92      0.92        13\n",
            "\n",
            "    accuracy                           0.96        45\n",
            "   macro avg       0.96      0.96      0.96        45\n",
            "weighted avg       0.96      0.96      0.96        45\n",
            "\n"
          ]
        }
      ]
    },
    {
      "cell_type": "code",
      "metadata": {
        "id": "aoHK_Nq_4G9p"
      },
      "source": [
        ""
      ],
      "execution_count": null,
      "outputs": []
    }
  ]
}